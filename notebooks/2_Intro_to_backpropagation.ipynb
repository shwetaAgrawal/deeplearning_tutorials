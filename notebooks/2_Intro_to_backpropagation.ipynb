{
  "cells": [
    {
      "cell_type": "markdown",
      "metadata": {
        "id": "LixRLTwzMBsZ"
      },
      "source": [
        "The idea behind this notebook series is to go slow and build a solid understanding of code and maths involved in deep learning. Few points to note -\n",
        "1. For simplicity of calculations, I have used small integer values in examples\n",
        "2. This code is only for understanding the concepts so it is missing couple of things like type checking and error handling\n",
        "\n",
        "This is the 2nd notebook in the series. Here we build upon the content of 1st Notebook and build understanding of backpropagation and gradient descent.\n",
        "\n",
        "[Colab link](https://colab.research.google.com/github/shwetaAgrawal/deeplearning_tutorials/blob/main/notebooks/2_Intro_to_backpropagation.ipynb)\n"
      ]
    },
    {
      "cell_type": "code",
      "execution_count": 1,
      "metadata": {},
      "outputs": [],
      "source": [
        "# Pre-requisite for running this notebook - numpy. If you come across error \"No module named 'numpy'\" then please uncomment the below line and run this cell\n",
        "#!pip install numpy"
      ]
    },
    {
      "cell_type": "markdown",
      "metadata": {
        "id": "osEjQ7iSmFKp"
      },
      "source": [
        "# Introduction to Backpropagation"
      ]
    },
    {
      "cell_type": "markdown",
      "metadata": {},
      "source": [
        "*Backpropagation*, short for \"backward propagation of errors,\" is a fundamental algorithm used in training artificial neural networks. \n",
        "\n",
        "Neural network training can be divided into two phases:\n",
        "1. Forward Pass: During the forward pass, the input data is passed through the network layer by layer to generate an output. Already covered in 1st notebook in the series.\n",
        "2. Backward Pass: In the backward pass, the error is propagated back through the network. We will cover this today in detail.\n",
        "\n",
        "Steps in Backpropagation:\n",
        "1. Compute Error: Calculate the error between the predicted output and the actual target values using a loss function (e.g., Mean Squared Error, Cross-Entropy Loss).\n",
        "2. Compute Gradient: Compute the gradients of the error with respect to each weight using the chain rule.\n",
        "3. Update Weights: Adjust the weights and biases using the computed gradients and an optimization algorithm.\n",
        "\n",
        "If you want to do it by hand before jumping into the code, check [this workbook](https://aibyhand.substack.com/p/7-can-you-calculate-a-transformer) published by Tom Yeh."
      ]
    },
    {
      "cell_type": "code",
      "execution_count": 2,
      "metadata": {},
      "outputs": [],
      "source": [
        "import numpy as np\n",
        "import matplotlib.pyplot as plt\n",
        "\n",
        "# Importing the custom modules. these are available in repo - https://github.com/shwetaAgrawal/deeplearning_tutorials/tree/main/notebooks\n",
        "from ann_module import ActivationFunctions\n",
        "from ann_module import NeuralNetworkForwardPass\n",
        "from utils import SampleInputOutputUtils"
      ]
    },
    {
      "cell_type": "markdown",
      "metadata": {},
      "source": [
        "## Backpropagation for single neuron\n",
        "Just like what we did in 1st notebook, we'll start with a very simple example. \n",
        "\n",
        "To recap, our single neuron's calculation\n",
        "> *$\\hat{y}$ = activation_function(w * x_input + b)*\n",
        "\n",
        "Now we need to define the following: \n",
        "1. Error - It is defined as difference between actual and predicted output - $(y - \\hat y)$\n",
        "2. Loss function (${L}$) - Lets use mean squared error as loss function which is calculated as \n",
        "$$\n",
        "L = \\frac{1}{n} \\sum_{i=1}^{n} (y_i - \\hat{y}_i)^2\n",
        "$$\n",
        "Where:\n",
        "- $y_i$ is the actual output for i<sup>th</sup> input.\n",
        "- $\\hat{y}_i$ is the predicted output for i<sup>th</sup> input.\n",
        "3. Gradient ($\\frac{\\partial L}{\\partial w}$ and $\\frac{\\partial L}{\\partial b}$) - These are partial derivatives ${L}$ with respect to w and b. \n",
        "4. Learning rate (**η**) - Learning rate is used to tweak update magnitude, it takes value from (0, 1]. High learning rate leads to larger weight updates and increases the chance of missing global minima and weights not coverging. Small learning rate leads to smaller weight updates and increases the chance of being stuck in local minima and increased training time. \n",
        "$$\n",
        "w = w - η \\cdot \\frac{\\partial L}{\\partial w}\n",
        "$$\n",
        "$$\n",
        "b = b - η \\cdot \\frac{\\partial L}{\\partial b}\n",
        "$$"
      ]
    },
    {
      "cell_type": "markdown",
      "metadata": {},
      "source": [
        "### Loss Calculation"
      ]
    },
    {
      "cell_type": "code",
      "execution_count": 17,
      "metadata": {},
      "outputs": [],
      "source": [
        "def computeLoss(y: np.ndarray, y_pred: np.ndarray) -> float:\n",
        "    \"\"\"\n",
        "    This function computes the loss between the predicted value and the actual value.\n",
        "    Args:\n",
        "    \"\"\"\n",
        "    if y is None or y_pred is None or y.size == 0 or y_pred.size == 0:\n",
        "        raise ValueError(\"y and y_pred cannot be None/empty\")\n",
        "    \n",
        "    if y.size != y_pred.size:\n",
        "        raise ValueError(\"y and y_pred should be of same length\")\n",
        "    \n",
        "    return np.mean((y - y_pred) ** 2) "
      ]
    },
    {
      "cell_type": "code",
      "execution_count": 18,
      "metadata": {},
      "outputs": [
        {
          "name": "stdout",
          "output_type": "stream",
          "text": [
            "\n",
            "Actual:  [-1 -1 -1 -1 -1]\n",
            "\n",
            "Predicted:  [ 0  0 -1  0  0]\n",
            "\n",
            "Loss:  0.8\n"
          ]
        }
      ],
      "source": [
        "y = np.random.randint(-1, 1, 5)\n",
        "y_pred = np.random.randint(-1, 1, 5)\n",
        "\n",
        "print(\"\\nActual: \", y)\n",
        "print(\"\\nPredicted: \", y_pred)\n",
        "print(\"\\nLoss: \", computeLoss(y, y_pred))"
      ]
    },
    {
      "cell_type": "markdown",
      "metadata": {},
      "source": [
        "### Gradient Calculation\n",
        "\n",
        "To start with calculate loss and its derivative for 1 sample i.e our dataset consists of only 1 record and thus has one 1 pair of $y$ and $\\hat{y}$ - \n",
        "$$\n",
        "L =  (y - \\hat{y})^2\n",
        "$$\n",
        "\n",
        "$\\hat{y}$ is a function of $w$ and $b$ as shared earlier, so we can substitute $\\hat{y}$ in loss function with that - \n",
        "$$\n",
        "L = (y - (w \\cdot x + b))^2\n",
        "$$\n",
        "\n",
        "As since w and b are independent variables and not impacted by each other, so \n",
        "$$\n",
        "\\frac{\\partial w}{\\partial b} = \\frac{\\partial b}{\\partial w} = 0\n",
        "$$"
      ]
    },
    {
      "cell_type": "markdown",
      "metadata": {},
      "source": [
        "#### Gradient for weight updation \n",
        "Now we are going to calculate partial derivative of substituted loss function wrt ${w}$ -\n",
        "$$\n",
        "\\frac{\\partial L}{\\partial w} = \\frac{\\partial}{\\partial w} (y - (w \\cdot x + b))^2\n",
        "$$\n",
        "\n",
        "Applying the chain rule:\n",
        "$$\n",
        "\\frac{\\partial L}{\\partial w} = 2 (y -(w \\cdot x + b)) \\cdot \\frac{\\partial}{\\partial w} (y - (w \\cdot x + b))\n",
        "$$\n",
        "\n",
        "Differentiating the inner term (since $y$ is a constant and $\\frac{\\partial b}{\\partial w}$ = 0):\n",
        "$$\n",
        "\\frac{\\partial}{\\partial w} (y - (w \\cdot x + b)) = -x\n",
        "$$\n",
        "\n",
        "Combining the results:\n",
        "$$\n",
        "\\frac{\\partial L}{\\partial w} = 2 (y - (w \\cdot x + b)) \\cdot (-x) = -2x (y - (w \\cdot x + b)) = -2x(y - \\hat{y})\n",
        "$$\n",
        "\n",
        "Now, we can extend above equation to multiple record dataset by taking average of these individual sample derivatives:\n",
        "$$\n",
        "\\frac{\\partial L}{\\partial w} = -\\frac{2}{n} \\sum_{i=1}^{n}x_i(y_i - \\hat{y}_i)\n",
        "$$"
      ]
    },
    {
      "cell_type": "code",
      "execution_count": 19,
      "metadata": {},
      "outputs": [],
      "source": [
        "# lets write down the gradient calculation function now\n",
        "def computeWeightGradient(y: np.ndarray, y_pred: np.ndarray, x_input: np.ndarray) -> np.ndarray:\n",
        "    \"\"\"\n",
        "    This function computes the gradient of the loss function with respect to the predicted value.\n",
        "    Args:\n",
        "    \"\"\"\n",
        "    if y is None or y_pred is None or x_input is None or y.size == 0 or y_pred.size == 0 or x_input.size == 0:\n",
        "        raise ValueError(\"y and y_pred cannot be None/empty\")\n",
        "    \n",
        "    if y.size != y_pred.size:\n",
        "        raise ValueError(\"y, y_pred should be of same length\")\n",
        "    if y.size != x_input.shape[-1]:\n",
        "        raise ValueError(\"y and x_input should have same number of records\")\n",
        "    \n",
        "    # we want element wise multiplication of the two arrays here because for a batch of inputs, \n",
        "    # we are multiplying each input with the corresponding error\n",
        "    axis_avg = (x_input.ndim - 1) if x_input.ndim > 1 else None #last axis represents batch of inputs and we want to average over the batch\n",
        "    return -2 * np.mean((y - y_pred) * x_input, axis=axis_avg) "
      ]
    },
    {
      "cell_type": "markdown",
      "metadata": {},
      "source": [
        "#### Gradient for bias updation\n",
        "Similarly we can calculate gradient for bias. \n",
        "$$\n",
        "\\frac{\\partial L}{\\partial b} = \\frac{\\partial}{\\partial b} (y - (w \\cdot x + b))^2\n",
        "$$\n",
        "\n",
        "Applying chain rule, we get:\n",
        "$$\n",
        "\\frac{\\partial L}{\\partial b} = 2 (y -(w \\cdot x + b)) \\cdot \\frac{\\partial}{\\partial b} (y - (w \\cdot x + b))\n",
        "$$\n",
        "\n",
        "Differentiating the inner term (since $y$ is a constant and $\\frac{\\partial w}{\\partial b}$ = 0):\n",
        "$$\n",
        "\\frac{\\partial}{\\partial b} (y - (w \\cdot x + b)) = -1\n",
        "$$\n",
        "\n",
        "Combining the results:\n",
        "$$\n",
        "\\frac{\\partial L}{\\partial b} = 2 (y - (w \\cdot x + b)) \\cdot (-1) = 2(y - (w \\cdot x + b)) = -2(y - \\hat{y})\n",
        "$$\n",
        "\n",
        "Now, we can extend above equation to multiple record dataset by taking average of these individual sample derivatives:\n",
        "$$\n",
        "\\frac{\\partial L}{\\partial b} = \\frac{-2}{n} \\sum_{i=1}^{n}(y_i - \\hat{y}_i)\n",
        "$$"
      ]
    },
    {
      "cell_type": "code",
      "execution_count": 20,
      "metadata": {},
      "outputs": [],
      "source": [
        "# lets write down the gradient calculation function now\n",
        "def computeBiasGradient(y: np.ndarray, y_pred: np.ndarray) -> np.ndarray:\n",
        "    \"\"\"\n",
        "    This function computes the gradient of the loss function with respect to the predicted value.\n",
        "    Args:\n",
        "    \"\"\"\n",
        "    if y is None or y_pred is None or y.size == 0 or y_pred.size == 0:\n",
        "        raise ValueError(\"y and y_pred cannot be None/empty\")\n",
        "    \n",
        "    if y.size != y_pred.size:\n",
        "        raise ValueError(\"y and y_pred should be of same length\")\n",
        "    \n",
        "    return -2 * np.mean(y - y_pred)"
      ]
    },
    {
      "cell_type": "code",
      "execution_count": 21,
      "metadata": {},
      "outputs": [
        {
          "name": "stdout",
          "output_type": "stream",
          "text": [
            "\n",
            "Input: \n",
            " [[2 0 0 1 3]]\n",
            "\n",
            "Target output:  [[1 0 0 0 0]]\n",
            "\n",
            "Weights:  [[1]]\n",
            "\n",
            "Bias:  [[0]]\n"
          ]
        }
      ],
      "source": [
        "# lets generate some sample inputs and outputs\n",
        "\n",
        "# We'll start with one input and output dimension & a simpler network of just 1 layer mapping input to output\n",
        "input_dimensions = 1\n",
        "output_dimensions = 1 \n",
        "input_generator = SampleInputOutputUtils(input_dimensions, output_dimensions)\n",
        "x_input, y = input_generator.getSampleInputOutputBatch(5)\n",
        "\n",
        "print(\"\\nInput: \\n\", x_input)\n",
        "print(\"\\nTarget output: \", y)\n",
        "\n",
        "# lets initialize our basic neural network with just 1 layer mapping inputs to outputs\n",
        "nn = NeuralNetworkForwardPass(input_dimensions, output_dimensions, ActivationFunctions.linear, [])\n",
        "\n",
        "# For debugging purposes, lets print the weights and bias of the network\n",
        "print(\"\\nWeights: \", nn.layers[0].weights)\n",
        "print(\"\\nBias: \", nn.layers[0].bias)"
      ]
    },
    {
      "cell_type": "code",
      "execution_count": 22,
      "metadata": {},
      "outputs": [
        {
          "name": "stdout",
          "output_type": "stream",
          "text": [
            "\n",
            "Predicted output:  [[2 0 0 1 3]]\n",
            "\n",
            "Loss:  2.2\n",
            "\n",
            "Weight Gradient:  [4.8]\n",
            "\n",
            "Bias Gradient:  2.0\n",
            "\n",
            "Updated Weights:  [[0.52]]\n",
            "\n",
            "Updated Bias:  [[-0.2]]\n"
          ]
        }
      ],
      "source": [
        "y_pred = nn.predict(x_input)\n",
        "\n",
        "print(\"\\nPredicted output: \", y_pred)\n",
        "print(\"\\nLoss: \", computeLoss(y, y_pred))\n",
        "\n",
        "print(\"\\nWeight Gradient: \", computeWeightGradient(y, y_pred, x_input))\n",
        "print(\"\\nBias Gradient: \", computeBiasGradient(y, y_pred))\n",
        "\n",
        "# lets update the weights using the gradients\n",
        "learning_rate = 0.1\n",
        "nn.layers[0].weights = nn.layers[0].weights - learning_rate * computeWeightGradient(y, y_pred, x_input)\n",
        "print(\"\\nUpdated Weights: \", nn.layers[0].weights)\n",
        "\n",
        "# lets update the bias using the gradients\n",
        "nn.layers[0].bias = nn.layers[0].bias - learning_rate * computeBiasGradient(y, y_pred)\n",
        "print(\"\\nUpdated Bias: \", nn.layers[0].bias)"
      ]
    },
    {
      "cell_type": "code",
      "execution_count": 23,
      "metadata": {},
      "outputs": [],
      "source": [
        "# lets write a simple training loop to train the network using above weight and bias update rules\n",
        "def fit(nn: NeuralNetworkForwardPass, x_input: np.ndarray, y: np.ndarray, learning_rate: float, epochs: int) -> None:\n",
        "    \"\"\"\n",
        "    This function trains the neural network using the given inputs and outputs.\n",
        "    Args:\n",
        "        nn: NeuralNetworkForwardPass object - The neural network to be trained\n",
        "        x_input: np.ndarray - The input data\n",
        "        y: np.ndarray - The target output data\n",
        "        learning_rate: float - The learning rate to be used for training\n",
        "        epochs: int - The number of epochs to train the network\n",
        "    \"\"\"\n",
        "\n",
        "    loss_arr = np.zeros(epochs)\n",
        "    for epoch in range(epochs):\n",
        "        y_pred = nn.predict(x_input)\n",
        "        loss = computeLoss(y, y_pred)\n",
        "        loss_arr[epoch] = loss\n",
        "        print(\"Epoch: \", epoch, \" Loss: \", loss)\n",
        "\n",
        "        # Compute the gradients\n",
        "        weight_gradient = computeWeightGradient(y, y_pred, x_input)\n",
        "        bias_gradient = computeBiasGradient(y, y_pred)\n",
        "\n",
        "        # Update the weights and bias\n",
        "        nn.layers[0].weights = nn.layers[0].weights - learning_rate * weight_gradient\n",
        "        nn.layers[0].bias = nn.layers[0].bias - learning_rate * bias_gradient\n",
        "    return loss_arr"
      ]
    },
    {
      "cell_type": "code",
      "execution_count": 24,
      "metadata": {},
      "outputs": [
        {
          "name": "stdout",
          "output_type": "stream",
          "text": [
            "Epoch:  0  Loss:  0.41152000000000005\n",
            "Epoch:  1  Loss:  0.21923737599999998\n",
            "Epoch:  2  Loss:  0.19180961628160004\n",
            "Epoch:  3  Loss:  0.18245155438723076\n",
            "Epoch:  4  Loss:  0.17594982649840007\n",
            "Epoch:  5  Loss:  0.17059206302882673\n",
            "Epoch:  6  Loss:  0.16607213064737045\n",
            "Epoch:  7  Loss:  0.16224798345031094\n",
            "Epoch:  8  Loss:  0.15901138127634976\n",
            "Epoch:  9  Loss:  0.1562719371721047\n",
            "Epoch:  10  Loss:  0.1539532733181932\n",
            "Epoch:  11  Loss:  0.1519907563997608\n",
            "Epoch:  12  Loss:  0.15032968209715353\n",
            "Epoch:  13  Loss:  0.1489237488091833\n",
            "Epoch:  14  Loss:  0.1477337668744252\n",
            "Epoch:  15  Loss:  0.14672656616486432\n",
            "Epoch:  16  Loss:  0.14587407148429385\n",
            "Epoch:  17  Loss:  0.14515251998665923\n",
            "Epoch:  18  Loss:  0.14454179879906132\n",
            "Epoch:  19  Loss:  0.14402488438587846\n",
            "Epoch:  20  Loss:  0.14358736802656047\n",
            "Epoch:  21  Loss:  0.1432170541800337\n",
            "Epoch:  22  Loss:  0.14290362054033348\n",
            "Epoch:  23  Loss:  0.14263833030769119\n",
            "Epoch:  24  Loss:  0.14241378865478277\n",
            "Epoch:  25  Loss:  0.1422237365997611\n",
            "Epoch:  26  Loss:  0.14206287654039068\n",
            "Epoch:  27  Loss:  0.1419267245861396\n",
            "Epoch:  28  Loss:  0.14181148557206152\n",
            "Epoch:  29  Loss:  0.14171394727054581\n",
            "Epoch:  30  Loss:  0.14163139085214294\n",
            "Epoch:  31  Loss:  0.14156151509960674\n",
            "Epoch:  32  Loss:  0.14150237226266005\n",
            "Epoch:  33  Loss:  0.14145231376546838\n",
            "Epoch:  34  Loss:  0.14140994425344539\n",
            "Epoch:  35  Loss:  0.14137408269846913\n",
            "Epoch:  36  Loss:  0.1413437294783372\n",
            "Epoch:  37  Loss:  0.14131803851281755\n",
            "Epoch:  38  Loss:  0.1412962936796017\n",
            "Epoch:  39  Loss:  0.14127788885276785\n",
            "Epoch:  40  Loss:  0.1412623110073357\n",
            "Epoch:  41  Loss:  0.14124912591896183\n",
            "Epoch:  42  Loss:  0.14123796606016223\n",
            "Epoch:  43  Loss:  0.1412285203556743\n",
            "Epoch:  44  Loss:  0.14122052551139563\n",
            "Epoch:  45  Loss:  0.1412137586751982\n",
            "Epoch:  46  Loss:  0.1412080312250407\n",
            "Epoch:  47  Loss:  0.14120318351122738\n",
            "Epoch:  48  Loss:  0.14119908040625578\n",
            "Epoch:  49  Loss:  0.14119560753820787\n",
            "Epoch:  50  Loss:  0.14119266810269207\n",
            "Epoch:  51  Loss:  0.14119018016447152\n",
            "Epoch:  52  Loss:  0.1411880743735616\n",
            "Epoch:  53  Loss:  0.14118629203213548\n",
            "Epoch:  54  Loss:  0.14118478345835242\n",
            "Epoch:  55  Loss:  0.14118350660150245\n",
            "Epoch:  56  Loss:  0.1411824258698646\n",
            "Epoch:  57  Loss:  0.14118151113860633\n",
            "Epoch:  58  Loss:  0.14118073691006935\n",
            "Epoch:  59  Loss:  0.1411800816030356\n",
            "Epoch:  60  Loss:  0.1411795269511623\n",
            "Epoch:  61  Loss:  0.1411790574938167\n",
            "Epoch:  62  Loss:  0.1411786601451194\n",
            "Epoch:  63  Loss:  0.141178323829182\n",
            "Epoch:  64  Loss:  0.1411780391713726\n",
            "Epoch:  65  Loss:  0.14117779823700274\n",
            "Epoch:  66  Loss:  0.14117759431015203\n",
            "Epoch:  67  Loss:  0.14117742170646563\n",
            "Epoch:  68  Loss:  0.14117727561470544\n",
            "Epoch:  69  Loss:  0.1411771519626396\n",
            "Epoch:  70  Loss:  0.14117704730353114\n",
            "Epoch:  71  Loss:  0.14117695872006167\n",
            "Epoch:  72  Loss:  0.14117688374301313\n",
            "Epoch:  73  Loss:  0.14117682028243927\n",
            "Epoch:  74  Loss:  0.14117676656940953\n",
            "Epoch:  75  Loss:  0.14117672110670115\n",
            "Epoch:  76  Loss:  0.1411766826270648\n",
            "Epoch:  77  Loss:  0.1411766500579006\n",
            "Epoch:  78  Loss:  0.14117662249136004\n",
            "Epoch:  79  Loss:  0.14117659915904004\n",
            "Epoch:  80  Loss:  0.14117657941056447\n",
            "Epoch:  81  Loss:  0.14117656269545464\n",
            "Epoch:  82  Loss:  0.14117654854778577\n",
            "Epoch:  83  Loss:  0.1411765365731988\n",
            "Epoch:  84  Loss:  0.14117652643790843\n",
            "Epoch:  85  Loss:  0.14117651785939866\n",
            "Epoch:  86  Loss:  0.1411765105985479\n",
            "Epoch:  87  Loss:  0.1411765044529639\n",
            "Epoch:  88  Loss:  0.14117649925134157\n",
            "Epoch:  89  Loss:  0.1411764948486885\n",
            "Epoch:  90  Loss:  0.1411764911222829\n",
            "Epoch:  91  Loss:  0.14117648796825313\n",
            "Epoch:  92  Loss:  0.1411764852986824\n",
            "Epoch:  93  Loss:  0.14117648303915775\n",
            "Epoch:  94  Loss:  0.14117648112669604\n",
            "Epoch:  95  Loss:  0.14117647950798848\n",
            "Epoch:  96  Loss:  0.14117647813791442\n",
            "Epoch:  97  Loss:  0.14117647697828367\n",
            "Epoch:  98  Loss:  0.14117647599677224\n",
            "Epoch:  99  Loss:  0.14117647516602097\n"
          ]
        }
      ],
      "source": [
        "loss_arr = fit(nn, x_input, y, 0.1, 100)"
      ]
    },
    {
      "cell_type": "code",
      "execution_count": 25,
      "metadata": {},
      "outputs": [
        {
          "data": {
            "text/plain": [
              "[<matplotlib.lines.Line2D at 0x121301b50>]"
            ]
          },
          "execution_count": 25,
          "metadata": {},
          "output_type": "execute_result"
        },
        {
          "data": {
            "image/png": "[encoded data removed]",
            "text/plain": [
              "<Figure size 640x480 with 1 Axes>"
            ]
          },
          "metadata": {},
          "output_type": "display_data"
        }
      ],
      "source": [
        "# run cell 7 onwards multiple times to be able to see training loss variations for different inputs and outputs\n",
        "# training loss follows a U-curve and usually we select the weights and bias corresponding to least loss\n",
        "plt.plot(loss_arr)"
      ]
    },
    {
      "cell_type": "markdown",
      "metadata": {},
      "source": [
        "#### Multi-dimensional Input"
      ]
    },
    {
      "cell_type": "code",
      "execution_count": 26,
      "metadata": {},
      "outputs": [
        {
          "name": "stdout",
          "output_type": "stream",
          "text": [
            "\n",
            "Input: \n",
            " [[0 4 0 4 4]\n",
            " [2 4 4 2 4]]\n",
            "\n",
            "Target output:  [[1 1 1 0 1]]\n",
            "\n",
            "Weights:  [[-1  0]]\n",
            "\n",
            "Bias:  [[0]]\n",
            "\n",
            "Predicted output:  [[ 0 -4  0 -4 -4]]\n",
            "\n",
            "Loss:  13.6\n",
            "\n",
            "Weight Gradient:  [-22.4 -21.6]\n",
            "\n",
            "Bias Gradient:  -6.4\n",
            "\n",
            "Updated Weights:  [[1.24 2.16]]\n",
            "\n",
            "Updated Bias:  [[0.64]]\n",
            "Epoch:  0  Loss:  106.64832000000001\n",
            "Epoch:  1  Loss:  871.6231577599999\n",
            "Epoch:  2  Loss:  7135.673397762456\n",
            "Epoch:  3  Loss:  58422.638239242675\n",
            "Epoch:  4  Loss:  478333.32507636177\n",
            "Epoch:  5  Loss:  3916340.646008379\n",
            "Epoch:  6  Loss:  32064931.896622688\n",
            "Epoch:  7  Loss:  262530755.64667988\n",
            "Epoch:  8  Loss:  2149463406.8632603\n",
            "Epoch:  9  Loss:  17598673065.333305\n",
            "\n",
            "Final Weights:  [[56344.94159832 62855.04307973]]\n",
            "\n",
            "Final Bias:  [[18373.71027194]]\n"
          ]
        },
        {
          "data": {
            "image/png": "[encoded data removed]",
            "text/plain": [
              "<Figure size 640x480 with 1 Axes>"
            ]
          },
          "metadata": {},
          "output_type": "display_data"
        }
      ],
      "source": [
        "# lets increase the complexity of the network by having multi-dimensional inputs\n",
        "# first test if our existing code works for multi-dimensional inputs\n",
        "\n",
        "# lets generate some sample inputs and outputs\n",
        "# We'll start with 2-D input and 1-D output & a simpler network of just 1 layer mapping input to output\n",
        "input_dimensions = 2\n",
        "output_dimensions = 1 \n",
        "input_generator = SampleInputOutputUtils(input_dimensions, output_dimensions)\n",
        "x_input, y = input_generator.getSampleInputOutputBatch(5)\n",
        "\n",
        "print(\"\\nInput: \\n\", x_input)\n",
        "print(\"\\nTarget output: \", y)\n",
        "\n",
        "# lets initialize our basic neural network with just 1 layer mapping inputs to outputs\n",
        "nn = NeuralNetworkForwardPass(input_dimensions, output_dimensions, ActivationFunctions.linear, [])\n",
        "\n",
        "# For debugging purposes, lets print the weights and bias of the network\n",
        "print(\"\\nWeights: \", nn.layers[0].weights)\n",
        "print(\"\\nBias: \", nn.layers[0].bias)\n",
        "\n",
        "y_pred = nn.predict(x_input)\n",
        "\n",
        "print(\"\\nPredicted output: \", y_pred)\n",
        "print(\"\\nLoss: \", computeLoss(y, y_pred))\n",
        "\n",
        "print(\"\\nWeight Gradient: \", computeWeightGradient(y, y_pred, x_input))\n",
        "print(\"\\nBias Gradient: \", computeBiasGradient(y, y_pred))\n",
        "\n",
        "# lets update the weights using the gradients\n",
        "learning_rate = 0.1\n",
        "nn.layers[0].weights = nn.layers[0].weights - learning_rate * computeWeightGradient(y, y_pred, x_input)\n",
        "print(\"\\nUpdated Weights: \", nn.layers[0].weights)\n",
        "\n",
        "# lets update the bias using the gradients\n",
        "nn.layers[0].bias = nn.layers[0].bias - learning_rate * computeBiasGradient(y, y_pred)\n",
        "print(\"\\nUpdated Bias: \", nn.layers[0].bias)\n",
        "\n",
        "loss_arr = fit(nn, x_input, y, 0.1, 10)\n",
        "plt.plot(loss_arr)\n",
        "\n",
        "print(\"\\nFinal Weights: \", nn.layers[0].weights)\n",
        "print(\"\\nFinal Bias: \", nn.layers[0].bias)\n",
        "\n",
        "# so we were able to train the network with multi-dimensional inputs with our existing code"
      ]
    },
    {
      "cell_type": "markdown",
      "metadata": {},
      "source": [
        "#### Training with multiple layers"
      ]
    },
    {
      "cell_type": "code",
      "execution_count": 27,
      "metadata": {},
      "outputs": [
        {
          "name": "stdout",
          "output_type": "stream",
          "text": [
            "\n",
            "Input: \n",
            " [[3 3 4 1 1]\n",
            " [2 2 0 3 2]]\n",
            "\n",
            "Target output:  [[1 1 0 1 0]]\n",
            "\n",
            "Hidden Layer Weights:  [[ 1  0]\n",
            " [-1  1]]\n",
            "\n",
            "Hidden Layer Bias:  [[0]\n",
            " [0]]\n",
            "\n",
            "Output Layer Weights:  [[1 0]]\n",
            "\n",
            "Output Layer Bias:  [[1]]\n",
            "\n",
            "Predicted output:  [[4 4 5 2 2]]\n",
            "\n",
            "Loss:  9.6\n",
            "\n",
            "Output layer Weight Gradient:  [16.4 -8.8]\n",
            "\n",
            "Output layer Bias Gradient:  5.6\n"
          ]
        }
      ],
      "source": [
        "# lets increase the complexity of the network by having multi-dimensional inputs and multi-layer network\n",
        "# first test if our existing code works for multi-layer network\n",
        "\n",
        "# lets generate some sample inputs and outputs  - 2-D input and 1-D output & a network with 2 layers\n",
        "input_dimensions = 2\n",
        "output_dimensions = 1\n",
        "hidden_layer_neurons = 2\n",
        "input_generator = SampleInputOutputUtils(input_dimensions, output_dimensions)\n",
        "x_input, y = input_generator.getSampleInputOutputBatch(5)\n",
        "\n",
        "print(\"\\nInput: \\n\", x_input)\n",
        "print(\"\\nTarget output: \", y)\n",
        "\n",
        "# lets initialize our basic neural network with 2 layers - 1 hidden layer and 1 output layer\n",
        "nn = NeuralNetworkForwardPass(input_dimensions, output_dimensions, ActivationFunctions.linear, [(hidden_layer_neurons, ActivationFunctions.linear)])\n",
        "\n",
        "# For debugging purposes, lets print the weights and bias of the network\n",
        "print(\"\\nHidden Layer Weights: \", nn.layers[0].weights)\n",
        "print(\"\\nHidden Layer Bias: \", nn.layers[0].bias)\n",
        "\n",
        "print(\"\\nOutput Layer Weights: \", nn.layers[1].weights)\n",
        "print(\"\\nOutput Layer Bias: \", nn.layers[1].bias)\n",
        "\n",
        "y_pred = nn.predict(x_input)\n",
        "\n",
        "print(\"\\nPredicted output: \", y_pred)\n",
        "print(\"\\nLoss: \", computeLoss(y, y_pred))\n",
        "\n",
        "# since input to output layer is hidden layer's output\n",
        "print(\"\\nOutput layer Weight Gradient: \", computeWeightGradient(y, y_pred, nn.layers[0].predict(x_input)))\n",
        "print(\"\\nOutput layer Bias Gradient: \", computeBiasGradient(y, y_pred))\n",
        "\n",
        "# so computation of gradient for final layer is going to be same as before and we will be able to update the weights and bias of the final layer\n",
        "# however for hidden layer, we can't use the same method because its output is input to another layer which then results in final output\n",
        "# so lets go back to drawing board and analyze how we can compute the gradients for hidden layer"
      ]
    },
    {
      "cell_type": "markdown",
      "metadata": {},
      "source": [
        "##### Hidden Layer gradient computation\n",
        "Lets represent hidden layer weights, bias & output as ${hw}$, ${hb}$, and ${h\\hat y}$. And calculate relationship between ${hw}$ and ${L}$. We know that\n",
        "$$\n",
        "L = (y - \\hat y)^2\n",
        "$$\n",
        "\n",
        "And ${\\hat y}$ = ${w \\cdot h\\hat y + b}$ since hidden layers output is input to the output layer. And hidden layer output is a function of hidden layer weights and bias ${h\\hat y}$ = ${hw \\cdot x + hb}$. \n",
        "\n",
        "So we can see that this relationship takes form of ${f(g(x))}$ where we can think of ${g(x)}$ as output of hidden layer and ${f}$ as output of final layer. And by chain rule we can differentiate this as follows: \n",
        "$$\n",
        "\\frac{\\partial f(g(x))}{\\partial x} = \\frac{\\partial f(g(x))}{\\partial g(x)} \\cdot \\frac{\\partial g(x)}{\\partial x}\n",
        "$$\n",
        "\n",
        "Now we are going to calculate partial derivative of loss function wrt ${hw}$ -\n",
        "$$\n",
        "\\frac{\\partial L}{\\partial hw} = \\frac{\\partial}{\\partial hw} (y - (w \\cdot h\\hat y + b))^2\n",
        "$$\n",
        "\n",
        "Applying the chain rule:\n",
        "$$\n",
        "\\frac{\\partial L}{\\partial hw} = 2 (y -(w \\cdot h\\hat y + b)) \\cdot \\frac{\\partial}{\\partial h\\hat y} (y - (w \\cdot h\\hat y + b)) \\cdot \\frac{\\partial}{\\partial hw} (h\\hat y) \n",
        "$$\n",
        "\n",
        "Differentiating the first inner term (since $y$ is a constant and $\\frac{\\partial b}{\\partial h\\hat y}$ = 0):\n",
        "$$\n",
        "\\frac{\\partial}{\\partial h\\hat y} (y - (w \\cdot h\\hat y + b)) = -w\n",
        "$$\n",
        "\n",
        "Differentiating the second inner term (since $y$ is a constant and $\\frac{\\partial b}{\\partial h\\hat y}$ = 0):\n",
        "$$\n",
        "\\frac{\\partial}{\\partial hw} (h\\hat y) = \\frac{\\partial}{\\partial hw} (hw.x + hb) = x\n",
        "$$\n",
        "\n",
        "Combining the results:\n",
        "$$\n",
        "\\frac{\\partial L}{\\partial hw} = 2 (y - (w \\cdot h\\hat y + b)) \\cdot (-w) \\cdot (x) = -2 w \\cdot x (y - (w \\cdot h\\hat y + b)) = -2 w \\cdot x (y - \\hat{y})\n",
        "$$\n",
        "\n",
        "Now, we can extend above equation to multiple record dataset by taking average of these individual sample derivatives:\n",
        "$$\n",
        "\\frac{\\partial L}{\\partial hw} = -\\frac{2 \\cdot w}{n} \\cdot \\sum_{i=1}^{n} x_i(y_i - \\hat{y}_i)\n",
        "$$\n"
      ]
    },
    {
      "cell_type": "code",
      "execution_count": 28,
      "metadata": {},
      "outputs": [],
      "source": [
        "# lets write down the function to get the gradient of the loss function with respect to the hidden layer weights\n",
        "\n",
        "def computeHiddenLayerWeightGradient(nn, y, y_pred, x_input):\n",
        "    \"\"\"\n",
        "    This function computes the gradient of the loss function with respect to the hidden layer weights.\n",
        "    Args:\n",
        "        nn: NeuralNetworkForwardPass object - The neural network to be trained\n",
        "        y: np.ndarray - The target output data\n",
        "        y_pred: np.ndarray - The predicted output data\n",
        "        x_input: np.ndarray - The input data\n",
        "    \"\"\"\n",
        "    if y is None or y_pred is None or x_input is None or y.size == 0 or y_pred.size == 0 or x_input.size == 0:\n",
        "        raise ValueError(\"y and y_pred cannot be None/empty\")\n",
        "    \n",
        "    if y.size != y_pred.size:\n",
        "        raise ValueError(\"y, y_pred should be of same length\")\n",
        "    if y.size != x_input.shape[-1]:\n",
        "        raise ValueError(\"y and x_input should have same number of records\")\n",
        "    \n",
        "    axis_avg = (x_input.ndim - 1) if x_input.ndim > 1 else None #last axis represents batch of inputs and we want to average over the batch\n",
        "    \n",
        "    # we need to multiply the error in the output layer with the weights of the output layer [output layer weights are updated after hidden layer weights are updated]\n",
        "    # we want element wise multiplication of the two arrays here because for a batch of inputs, \n",
        "    # we are multiplying each weight * input with the corresponding error\n",
        "    # we have put a transpose here because we have transposed our weight matrix during initialization itself\n",
        "    return -2 * (np.reshape(np.mean((y - y_pred) *  x_input, axis=axis_avg), (nn.input_dimensions, 1)) @ nn.layers[1].weights).T"
      ]
    },
    {
      "cell_type": "markdown",
      "metadata": {},
      "source": [
        "Similarly we can compute the gradient for hidden layer bias\n",
        "\n",
        "$$\n",
        "\\frac{\\partial L}{\\partial hb} = -\\frac{2 \\cdot w}{n} \\cdot \\sum_{i=1}^{n} (y_i - \\hat{y}_i)\n",
        "$$"
      ]
    },
    {
      "cell_type": "code",
      "execution_count": 29,
      "metadata": {},
      "outputs": [],
      "source": [
        "def computeHiddenLayerBiasGradient(nn, y, y_pred, x_input):\n",
        "    \"\"\"\n",
        "    This function computes the gradient of the loss function with respect to the hidden layer weights.\n",
        "    Args:\n",
        "        nn: NeuralNetworkForwardPass object - The neural network to be trained\n",
        "        y: np.ndarray - The target output data\n",
        "        y_pred: np.ndarray - The predicted output data\n",
        "        x_input: np.ndarray - The input data\n",
        "    \"\"\"\n",
        "    if y is None or y_pred is None or x_input is None or y.size == 0 or y_pred.size == 0 or x_input.size == 0:\n",
        "        raise ValueError(\"y and y_pred cannot be None/empty\")\n",
        "    \n",
        "    if y.size != y_pred.size:\n",
        "        raise ValueError(\"y, y_pred should be of same length\")\n",
        "    \n",
        "    return -2 * np.mean(y - y_pred) * np.reshape(nn.layers[1].weights, (nn.input_dimensions, 1))"
      ]
    },
    {
      "cell_type": "code",
      "execution_count": 30,
      "metadata": {},
      "outputs": [
        {
          "name": "stdout",
          "output_type": "stream",
          "text": [
            "\n",
            " Hidden Layer output:  [[ 3  3  4  1  1]\n",
            " [-1 -1 -4  2  1]]\n",
            "\n",
            "Hidden Layer Weight gradient:  [[16.4  7.6]\n",
            " [-0.  -0. ]]\n",
            "\n",
            "Hidden Layer bias gradient:  [[5.6]\n",
            " [0. ]]\n",
            "\n",
            "Updated Hidden Layer Weights:  [[-0.64 -0.76]\n",
            " [-1.    1.  ]]\n",
            "\n",
            "Updated Hidden Layer Bias:  [[-0.56]\n",
            " [ 0.  ]]\n",
            "\n",
            "Updated Weights:  [[-0.64  0.88]]\n",
            "\n",
            "Updated Bias:  [[0.44]]\n"
          ]
        }
      ],
      "source": [
        "# lets update the weights using the gradients\n",
        "# we need to store hidden layer output for output layer weight update rule\n",
        "hidden_layer_output = nn.layers[0].predict(x_input)\n",
        "print(\"\\n Hidden Layer output: \", hidden_layer_output)\n",
        "learning_rate = 0.1\n",
        "\n",
        "print(\"\\nHidden Layer Weight gradient: \", computeHiddenLayerWeightGradient(nn, y, y_pred, x_input))\n",
        "print(\"\\nHidden Layer bias gradient: \", computeHiddenLayerBiasGradient(nn, y, y_pred, x_input))\n",
        "\n",
        "nn.layers[0].weights = nn.layers[0].weights - learning_rate * computeHiddenLayerWeightGradient(nn, y, y_pred, x_input)\n",
        "nn.layers[0].bias = nn.layers[0].bias - learning_rate * computeHiddenLayerBiasGradient(nn, y, y_pred, x_input)\n",
        "print(\"\\nUpdated Hidden Layer Weights: \", nn.layers[0].weights)\n",
        "print(\"\\nUpdated Hidden Layer Bias: \", nn.layers[0].bias)\n",
        "\n",
        "nn.layers[1].weights = nn.layers[1].weights - learning_rate * computeWeightGradient(y, y_pred, hidden_layer_output)\n",
        "print(\"\\nUpdated Weights: \", nn.layers[1].weights)\n",
        "\n",
        "nn.layers[1].bias = nn.layers[1].bias - learning_rate * computeBiasGradient(y, y_pred)\n",
        "print(\"\\nUpdated Bias: \", nn.layers[1].bias)"
      ]
    },
    {
      "cell_type": "markdown",
      "metadata": {
        "id": "Yxlt8YD7Xrd_"
      },
      "source": [
        "# Recap\n",
        "\n",
        "This wraps up this notebook. Just to recap we learned -\n",
        "\n",
        "\n",
        "1.   Error and Loss computation\n",
        "2.   Gradient calculation\n",
        "3.   Backpropagation\n",
        "4.   to code\n",
        "    \n",
        "        *   loss computation\n",
        "        *   gradient computation for a single layer network\n",
        "        *   fit method implementation for a single layer network\n",
        "        *   gradient computation for a double layer network [backpropagation in practice]\n",
        "\n",
        "In the next notebook, we will learn how to generalize the fit method for a multi-layer network. Stay tuned."
      ]
    },
    {
      "cell_type": "markdown",
      "metadata": {
        "id": "lVyZOIeimr34"
      },
      "source": [
        "# References"
      ]
    },
    {
      "cell_type": "markdown",
      "metadata": {
        "id": "5puTbYau9hpq"
      },
      "source": [
        "1.   https://aibyhand.substack.com/\n",
        "2.   https://en.wikipedia.org/wiki/Matrix_calculus"
      ]
    },
    {
      "cell_type": "markdown",
      "metadata": {},
      "source": []
    }
  ],
  "metadata": {
    "colab": {
      "provenance": [],
      "toc_visible": true
    },
    "kernelspec": {
      "display_name": "Python 3",
      "name": "python3"
    },
    "language_info": {
      "codemirror_mode": {
        "name": "ipython",
        "version": 3
      },
      "file_extension": ".py",
      "mimetype": "text/x-python",
      "name": "python",
      "nbconvert_exporter": "python",
      "pygments_lexer": "ipython3",
      "version": "3.9.6"
    }
  },
  "nbformat": 4,
  "nbformat_minor": 0
}
